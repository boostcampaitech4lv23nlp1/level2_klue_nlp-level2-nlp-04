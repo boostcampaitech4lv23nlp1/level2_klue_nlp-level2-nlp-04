{
 "cells": [
  {
   "cell_type": "markdown",
   "id": "575c9aeb-be60-47ba-a8fa-7b93681931d2",
   "metadata": {},
   "source": [
    "# Analysis for Data Augmentation"
   ]
  },
  {
   "cell_type": "code",
   "execution_count": 2,
   "id": "10357991-a62f-45e9-ad0d-9be9dc32d200",
   "metadata": {},
   "outputs": [],
   "source": [
    "import pandas as pd\n",
    "from ast import literal_eval"
   ]
  },
  {
   "cell_type": "code",
   "execution_count": 3,
   "id": "f3217216-0e28-407a-96d2-24ab9f520718",
   "metadata": {},
   "outputs": [],
   "source": [
    "train_df = pd.read_csv('train/train.csv')\n",
    "test_df = pd.read_csv('test/test_data.csv')"
   ]
  },
  {
   "cell_type": "code",
   "execution_count": 4,
   "id": "18e47477-547d-4ee8-8694-200489d4b72f",
   "metadata": {},
   "outputs": [],
   "source": [
    "# subject, object 분리\n",
    "train_df.columns\n",
    "train_df['subject_entity'] = train_df['subject_entity'].apply(lambda x: literal_eval(x))\n",
    "train_df['object_entity'] = train_df['object_entity'].apply(lambda x: literal_eval(x))\n",
    "\n",
    "train_df['sub_word'] = train_df['subject_entity'].apply(lambda x: x['word'])\n",
    "train_df['obj_word'] = train_df['object_entity'].apply(lambda x: x['word'])\n",
    "\n",
    "train_df['sub_start_idx'] = train_df['subject_entity'].apply(lambda x: x['start_idx'])\n",
    "train_df['sub_end_idx'] = train_df['subject_entity'].apply(lambda x: x['end_idx'])\n",
    "\n",
    "train_df['obj_start_idx'] = train_df['object_entity'].apply(lambda x: x['start_idx'])\n",
    "train_df['obj_end_idx'] = train_df['object_entity'].apply(lambda x: x['end_idx'])"
   ]
  },
  {
   "cell_type": "code",
   "execution_count": 5,
   "id": "4acb9d9a-6f48-4735-afc5-8ea8f08af5ed",
   "metadata": {},
   "outputs": [
    {
     "data": {
      "text/html": [
       "<div>\n",
       "<style scoped>\n",
       "    .dataframe tbody tr th:only-of-type {\n",
       "        vertical-align: middle;\n",
       "    }\n",
       "\n",
       "    .dataframe tbody tr th {\n",
       "        vertical-align: top;\n",
       "    }\n",
       "\n",
       "    .dataframe thead th {\n",
       "        text-align: right;\n",
       "    }\n",
       "</style>\n",
       "<table border=\"1\" class=\"dataframe\">\n",
       "  <thead>\n",
       "    <tr style=\"text-align: right;\">\n",
       "      <th></th>\n",
       "      <th>id</th>\n",
       "      <th>sentence</th>\n",
       "      <th>subject_entity</th>\n",
       "      <th>object_entity</th>\n",
       "      <th>label</th>\n",
       "      <th>source</th>\n",
       "      <th>sub_word</th>\n",
       "      <th>obj_word</th>\n",
       "      <th>sub_start_idx</th>\n",
       "      <th>sub_end_idx</th>\n",
       "      <th>obj_start_idx</th>\n",
       "      <th>obj_end_idx</th>\n",
       "    </tr>\n",
       "  </thead>\n",
       "  <tbody>\n",
       "    <tr>\n",
       "      <th>13753</th>\n",
       "      <td>13753</td>\n",
       "      <td>그녀는 전립선암으로 인해 출마를 포기한 루돌프 줄리아니 대신 공화당의 릭 라지오와 ...</td>\n",
       "      <td>{'word': '루돌프 줄리아니', 'start_idx': 22, 'end_idx...</td>\n",
       "      <td>{'word': '공화당', 'start_idx': 34, 'end_idx': 36...</td>\n",
       "      <td>no_relation</td>\n",
       "      <td>wikipedia</td>\n",
       "      <td>루돌프 줄리아니</td>\n",
       "      <td>공화당</td>\n",
       "      <td>22</td>\n",
       "      <td>29</td>\n",
       "      <td>34</td>\n",
       "      <td>36</td>\n",
       "    </tr>\n",
       "    <tr>\n",
       "      <th>13348</th>\n",
       "      <td>13348</td>\n",
       "      <td>그는 “미국 시장 수요 감소에도 불구하고 현대차의 판매는 증가하고 있다. 특히 제네...</td>\n",
       "      <td>{'word': '현대차', 'start_idx': 23, 'end_idx': 25...</td>\n",
       "      <td>{'word': '제네시스', 'start_idx': 44, 'end_idx': 4...</td>\n",
       "      <td>org:product</td>\n",
       "      <td>wikitree</td>\n",
       "      <td>현대차</td>\n",
       "      <td>제네시스</td>\n",
       "      <td>23</td>\n",
       "      <td>25</td>\n",
       "      <td>44</td>\n",
       "      <td>47</td>\n",
       "    </tr>\n",
       "    <tr>\n",
       "      <th>19794</th>\n",
       "      <td>19794</td>\n",
       "      <td>김용범 기획재정부 1차관은 이날 파행을 겪은 지 이틀 만에 농민단체와 간담회를 다시...</td>\n",
       "      <td>{'word': '기획재정부', 'start_idx': 4, 'end_idx': 8...</td>\n",
       "      <td>{'word': '김용범', 'start_idx': 0, 'end_idx': 2, ...</td>\n",
       "      <td>org:top_members/employees</td>\n",
       "      <td>wikitree</td>\n",
       "      <td>기획재정부</td>\n",
       "      <td>김용범</td>\n",
       "      <td>4</td>\n",
       "      <td>8</td>\n",
       "      <td>0</td>\n",
       "      <td>2</td>\n",
       "    </tr>\n",
       "  </tbody>\n",
       "</table>\n",
       "</div>"
      ],
      "text/plain": [
       "          id                                           sentence  \\\n",
       "13753  13753  그녀는 전립선암으로 인해 출마를 포기한 루돌프 줄리아니 대신 공화당의 릭 라지오와 ...   \n",
       "13348  13348  그는 “미국 시장 수요 감소에도 불구하고 현대차의 판매는 증가하고 있다. 특히 제네...   \n",
       "19794  19794  김용범 기획재정부 1차관은 이날 파행을 겪은 지 이틀 만에 농민단체와 간담회를 다시...   \n",
       "\n",
       "                                          subject_entity  \\\n",
       "13753  {'word': '루돌프 줄리아니', 'start_idx': 22, 'end_idx...   \n",
       "13348  {'word': '현대차', 'start_idx': 23, 'end_idx': 25...   \n",
       "19794  {'word': '기획재정부', 'start_idx': 4, 'end_idx': 8...   \n",
       "\n",
       "                                           object_entity  \\\n",
       "13753  {'word': '공화당', 'start_idx': 34, 'end_idx': 36...   \n",
       "13348  {'word': '제네시스', 'start_idx': 44, 'end_idx': 4...   \n",
       "19794  {'word': '김용범', 'start_idx': 0, 'end_idx': 2, ...   \n",
       "\n",
       "                           label     source  sub_word obj_word  sub_start_idx  \\\n",
       "13753                no_relation  wikipedia  루돌프 줄리아니      공화당             22   \n",
       "13348                org:product   wikitree       현대차     제네시스             23   \n",
       "19794  org:top_members/employees   wikitree     기획재정부      김용범              4   \n",
       "\n",
       "       sub_end_idx  obj_start_idx  obj_end_idx  \n",
       "13753           29             34           36  \n",
       "13348           25             44           47  \n",
       "19794            8              0            2  "
      ]
     },
     "execution_count": 5,
     "metadata": {},
     "output_type": "execute_result"
    }
   ],
   "source": [
    "train_df.sample(3)"
   ]
  },
  {
   "cell_type": "code",
   "execution_count": 6,
   "id": "0699f63f-2717-48e1-864d-32d4df2bf8b6",
   "metadata": {},
   "outputs": [
    {
     "name": "stdout",
     "output_type": "stream",
     "text": [
      "문장\n",
      "['문', '장']\n",
      "['안', '녕', ' ', '나', '는', ' ', '(', '테', '스', '트', ')', ' ', '*', '문', '장', '*', '이', '야', '.']\n",
      "안녕 나는 (테스트) *문장*이야.\n"
     ]
    }
   ],
   "source": [
    "a = '안녕 나는 (테스트) 문장이야.'\n",
    "print(a[12:14])\n",
    "print(list(a)[12:14])\n",
    "\n",
    "result = list(a)\n",
    "result.insert(12, '*')\n",
    "result.insert(14+1, '*')\n",
    "print(result)\n",
    "print(''.join(result))"
   ]
  },
  {
   "cell_type": "code",
   "execution_count": 7,
   "id": "bfa50e71-d9b9-49fb-aaa6-f96eac03d5e0",
   "metadata": {},
   "outputs": [
    {
     "data": {
      "text/plain": [
       "0"
      ]
     },
     "execution_count": 7,
     "metadata": {},
     "output_type": "execute_result"
    }
   ],
   "source": [
    "# @가 문장에 없으므로 이것을 entity marker로 쓰자.\n",
    "train_df['sentence'].str.contains('@').sum()"
   ]
  },
  {
   "cell_type": "code",
   "execution_count": 14,
   "id": "ccf3f7aa-3c34-4fcb-b9d7-18d2976e8efd",
   "metadata": {},
   "outputs": [
    {
     "data": {
      "text/plain": [
       "0"
      ]
     },
     "execution_count": 14,
     "metadata": {},
     "output_type": "execute_result"
    }
   ],
   "source": [
    "train_df['sentence'].str.contains('#').sum()"
   ]
  },
  {
   "cell_type": "code",
   "execution_count": 8,
   "id": "39839171-0742-443c-b0dd-8489edc4c094",
   "metadata": {},
   "outputs": [
    {
     "data": {
      "text/plain": [
       "'〈Something〉는 조지 해리슨이 쓰고 비틀즈가 1969년 앨범 《Abbey Road》에 담은 노래다.'"
      ]
     },
     "execution_count": 8,
     "metadata": {},
     "output_type": "execute_result"
    }
   ],
   "source": [
    "train_df['sentence'].loc[0]"
   ]
  },
  {
   "cell_type": "code",
   "execution_count": 9,
   "id": "621741ef-f9af-422a-83dc-a2dd76c8dd06",
   "metadata": {},
   "outputs": [
    {
     "name": "stderr",
     "output_type": "stream",
     "text": [
      "/opt/conda/envs/boost/lib/python3.8/site-packages/pandas/core/indexing.py:670: SettingWithCopyWarning: \n",
      "A value is trying to be set on a copy of a slice from a DataFrame\n",
      "\n",
      "See the caveats in the documentation: https://pandas.pydata.org/pandas-docs/stable/user_guide/indexing.html#returning-a-view-versus-a-copy\n",
      "  iloc._setitem_with_indexer(indexer, value)\n"
     ]
    },
    {
     "data": {
      "text/html": [
       "<div>\n",
       "<style scoped>\n",
       "    .dataframe tbody tr th:only-of-type {\n",
       "        vertical-align: middle;\n",
       "    }\n",
       "\n",
       "    .dataframe tbody tr th {\n",
       "        vertical-align: top;\n",
       "    }\n",
       "\n",
       "    .dataframe thead th {\n",
       "        text-align: right;\n",
       "    }\n",
       "</style>\n",
       "<table border=\"1\" class=\"dataframe\">\n",
       "  <thead>\n",
       "    <tr style=\"text-align: right;\">\n",
       "      <th></th>\n",
       "      <th>id</th>\n",
       "      <th>sentence</th>\n",
       "      <th>subject_entity</th>\n",
       "      <th>object_entity</th>\n",
       "      <th>label</th>\n",
       "      <th>source</th>\n",
       "      <th>sub_word</th>\n",
       "      <th>obj_word</th>\n",
       "      <th>sub_start_idx</th>\n",
       "      <th>sub_end_idx</th>\n",
       "      <th>obj_start_idx</th>\n",
       "      <th>obj_end_idx</th>\n",
       "      <th>sentence_with_entity_marker</th>\n",
       "      <th>sub_extracted</th>\n",
       "      <th>obj_extracted</th>\n",
       "    </tr>\n",
       "  </thead>\n",
       "  <tbody>\n",
       "    <tr>\n",
       "      <th>0</th>\n",
       "      <td>0</td>\n",
       "      <td>〈Something〉는 조지 해리슨이 쓰고 비틀즈가 1969년 앨범 《Abbey R...</td>\n",
       "      <td>{'word': '비틀즈', 'start_idx': 24, 'end_idx': 26...</td>\n",
       "      <td>{'word': '조지 해리슨', 'start_idx': 13, 'end_idx':...</td>\n",
       "      <td>no_relation</td>\n",
       "      <td>wikipedia</td>\n",
       "      <td>비틀즈</td>\n",
       "      <td>조지 해리슨</td>\n",
       "      <td>24</td>\n",
       "      <td>26</td>\n",
       "      <td>13</td>\n",
       "      <td>18</td>\n",
       "      <td>〈Something〉는 @조지 해리슨@이 쓰고 @비틀즈@가 1969년 앨범 《Abb...</td>\n",
       "      <td>비틀즈</td>\n",
       "      <td>조지 해리슨</td>\n",
       "    </tr>\n",
       "    <tr>\n",
       "      <th>1</th>\n",
       "      <td>1</td>\n",
       "      <td>호남이 기반인 바른미래당·대안신당·민주평화당이 우여곡절 끝에 합당해 민생당(가칭)으...</td>\n",
       "      <td>{'word': '민주평화당', 'start_idx': 19, 'end_idx': ...</td>\n",
       "      <td>{'word': '대안신당', 'start_idx': 14, 'end_idx': 1...</td>\n",
       "      <td>no_relation</td>\n",
       "      <td>wikitree</td>\n",
       "      <td>민주평화당</td>\n",
       "      <td>대안신당</td>\n",
       "      <td>19</td>\n",
       "      <td>23</td>\n",
       "      <td>14</td>\n",
       "      <td>17</td>\n",
       "      <td>호남이 기반인 바른미래당·@대안신당@·@민주평화당@이 우여곡절 끝에 합당해 민생당(...</td>\n",
       "      <td>민주평화당</td>\n",
       "      <td>대안신당</td>\n",
       "    </tr>\n",
       "    <tr>\n",
       "      <th>2</th>\n",
       "      <td>2</td>\n",
       "      <td>K리그2에서 성적 1위를 달리고 있는 광주FC는 지난 26일 한국프로축구연맹으로부터...</td>\n",
       "      <td>{'word': '광주FC', 'start_idx': 21, 'end_idx': 2...</td>\n",
       "      <td>{'word': '한국프로축구연맹', 'start_idx': 34, 'end_idx...</td>\n",
       "      <td>org:member_of</td>\n",
       "      <td>wikitree</td>\n",
       "      <td>광주FC</td>\n",
       "      <td>한국프로축구연맹</td>\n",
       "      <td>21</td>\n",
       "      <td>24</td>\n",
       "      <td>34</td>\n",
       "      <td>41</td>\n",
       "      <td>K리그2에서 성적 1위를 달리고 있는 @광주FC@는 지난 26일 @한국프로축구연맹@...</td>\n",
       "      <td>광주FC</td>\n",
       "      <td>한국프로축구연맹</td>\n",
       "    </tr>\n",
       "    <tr>\n",
       "      <th>3</th>\n",
       "      <td>3</td>\n",
       "      <td>균일가 생활용품점 (주)아성다이소(대표 박정부)는 코로나19 바이러스로 어려움을 겪...</td>\n",
       "      <td>{'word': '아성다이소', 'start_idx': 13, 'end_idx': ...</td>\n",
       "      <td>{'word': '박정부', 'start_idx': 22, 'end_idx': 24...</td>\n",
       "      <td>org:top_members/employees</td>\n",
       "      <td>wikitree</td>\n",
       "      <td>아성다이소</td>\n",
       "      <td>박정부</td>\n",
       "      <td>13</td>\n",
       "      <td>17</td>\n",
       "      <td>22</td>\n",
       "      <td>24</td>\n",
       "      <td>균일가 생활용품점 (주)@아성다이소@(대표 @박정부@)는 코로나19 바이러스로 어려...</td>\n",
       "      <td>아성다이소</td>\n",
       "      <td>박정부</td>\n",
       "    </tr>\n",
       "    <tr>\n",
       "      <th>4</th>\n",
       "      <td>4</td>\n",
       "      <td>1967년 프로 야구 드래프트 1순위로 요미우리 자이언츠에게 입단하면서 등번호는 8...</td>\n",
       "      <td>{'word': '요미우리 자이언츠', 'start_idx': 22, 'end_id...</td>\n",
       "      <td>{'word': '1967', 'start_idx': 0, 'end_idx': 3,...</td>\n",
       "      <td>no_relation</td>\n",
       "      <td>wikipedia</td>\n",
       "      <td>요미우리 자이언츠</td>\n",
       "      <td>1967</td>\n",
       "      <td>22</td>\n",
       "      <td>30</td>\n",
       "      <td>0</td>\n",
       "      <td>3</td>\n",
       "      <td>@1967@년 프로 야구 드래프트 1순위로 @요미우리 자이언츠@에게 입단하면서 등번...</td>\n",
       "      <td>요미우리 자이언츠</td>\n",
       "      <td>1967</td>\n",
       "    </tr>\n",
       "    <tr>\n",
       "      <th>...</th>\n",
       "      <td>...</td>\n",
       "      <td>...</td>\n",
       "      <td>...</td>\n",
       "      <td>...</td>\n",
       "      <td>...</td>\n",
       "      <td>...</td>\n",
       "      <td>...</td>\n",
       "      <td>...</td>\n",
       "      <td>...</td>\n",
       "      <td>...</td>\n",
       "      <td>...</td>\n",
       "      <td>...</td>\n",
       "      <td>...</td>\n",
       "      <td>...</td>\n",
       "      <td>...</td>\n",
       "    </tr>\n",
       "    <tr>\n",
       "      <th>32465</th>\n",
       "      <td>32465</td>\n",
       "      <td>한국당은 7일 오전 9시부터 오후 5시까지 진행된 원내대표 및 정책위의장 후보자 등...</td>\n",
       "      <td>{'word': '유기준', 'start_idx': 93, 'end_idx': 95...</td>\n",
       "      <td>{'word': '부산 서구·동구', 'start_idx': 100, 'end_id...</td>\n",
       "      <td>per:employee_of</td>\n",
       "      <td>wikitree</td>\n",
       "      <td>유기준</td>\n",
       "      <td>부산 서구·동구</td>\n",
       "      <td>93</td>\n",
       "      <td>95</td>\n",
       "      <td>100</td>\n",
       "      <td>107</td>\n",
       "      <td>한국당은 7일 오전 9시부터 오후 5시까지 진행된 원내대표 및 정책위의장 후보자 등...</td>\n",
       "      <td>유기준</td>\n",
       "      <td>부산 서구·동구</td>\n",
       "    </tr>\n",
       "    <tr>\n",
       "      <th>32466</th>\n",
       "      <td>32466</td>\n",
       "      <td>법포는 다시 최시형, 서병학, 손병희 직계인 북접과 다시 서장옥, 전봉준, 김개남을...</td>\n",
       "      <td>{'word': '최시형', 'start_idx': 7, 'end_idx': 9, ...</td>\n",
       "      <td>{'word': '손병희', 'start_idx': 17, 'end_idx': 19...</td>\n",
       "      <td>per:colleagues</td>\n",
       "      <td>wikipedia</td>\n",
       "      <td>최시형</td>\n",
       "      <td>손병희</td>\n",
       "      <td>7</td>\n",
       "      <td>9</td>\n",
       "      <td>17</td>\n",
       "      <td>19</td>\n",
       "      <td>법포는 다시 @최시형@, 서병학, @손병희@ 직계인 북접과 다시 서장옥, 전봉준, ...</td>\n",
       "      <td>최시형</td>\n",
       "      <td>손병희</td>\n",
       "    </tr>\n",
       "    <tr>\n",
       "      <th>32467</th>\n",
       "      <td>32467</td>\n",
       "      <td>완도군(군수 신우철)이 국토교통부에서 실시한 '2019 교통문화지수 실태조사'에서 ...</td>\n",
       "      <td>{'word': '완도군', 'start_idx': 0, 'end_idx': 2, ...</td>\n",
       "      <td>{'word': '신우철', 'start_idx': 7, 'end_idx': 9, ...</td>\n",
       "      <td>org:top_members/employees</td>\n",
       "      <td>wikitree</td>\n",
       "      <td>완도군</td>\n",
       "      <td>신우철</td>\n",
       "      <td>0</td>\n",
       "      <td>2</td>\n",
       "      <td>7</td>\n",
       "      <td>9</td>\n",
       "      <td>@완도군@(군수 @신우철@)이 국토교통부에서 실시한 '2019 교통문화지수 실태조사...</td>\n",
       "      <td>완도군</td>\n",
       "      <td>신우철</td>\n",
       "    </tr>\n",
       "    <tr>\n",
       "      <th>32468</th>\n",
       "      <td>32468</td>\n",
       "      <td>중앙일보, JTBC 회장을 지낸 이후 중앙홀딩스 회장, 재단법인 한반도평화만들기 이...</td>\n",
       "      <td>{'word': 'JTBC', 'start_idx': 6, 'end_idx': 9,...</td>\n",
       "      <td>{'word': '중앙홀딩스', 'start_idx': 21, 'end_idx': ...</td>\n",
       "      <td>no_relation</td>\n",
       "      <td>wikipedia</td>\n",
       "      <td>JTBC</td>\n",
       "      <td>중앙홀딩스</td>\n",
       "      <td>6</td>\n",
       "      <td>9</td>\n",
       "      <td>21</td>\n",
       "      <td>25</td>\n",
       "      <td>중앙일보, @JTBC@ 회장을 지낸 이후 @중앙홀딩스@ 회장, 재단법인 한반도평화만...</td>\n",
       "      <td>JTBC</td>\n",
       "      <td>중앙홀딩스</td>\n",
       "    </tr>\n",
       "    <tr>\n",
       "      <th>32469</th>\n",
       "      <td>32469</td>\n",
       "      <td>화순군(군수 구충곤)은 17일 동면의 이장 20여 명이 코로나 19 예방을 위해 버...</td>\n",
       "      <td>{'word': '화순군', 'start_idx': 0, 'end_idx': 2, ...</td>\n",
       "      <td>{'word': '구충곤', 'start_idx': 7, 'end_idx': 9, ...</td>\n",
       "      <td>org:top_members/employees</td>\n",
       "      <td>wikitree</td>\n",
       "      <td>화순군</td>\n",
       "      <td>구충곤</td>\n",
       "      <td>0</td>\n",
       "      <td>2</td>\n",
       "      <td>7</td>\n",
       "      <td>9</td>\n",
       "      <td>@화순군@(군수 @구충곤@)은 17일 동면의 이장 20여 명이 코로나 19 예방을 ...</td>\n",
       "      <td>화순군</td>\n",
       "      <td>구충곤</td>\n",
       "    </tr>\n",
       "  </tbody>\n",
       "</table>\n",
       "<p>32470 rows × 15 columns</p>\n",
       "</div>"
      ],
      "text/plain": [
       "          id                                           sentence  \\\n",
       "0          0  〈Something〉는 조지 해리슨이 쓰고 비틀즈가 1969년 앨범 《Abbey R...   \n",
       "1          1  호남이 기반인 바른미래당·대안신당·민주평화당이 우여곡절 끝에 합당해 민생당(가칭)으...   \n",
       "2          2  K리그2에서 성적 1위를 달리고 있는 광주FC는 지난 26일 한국프로축구연맹으로부터...   \n",
       "3          3  균일가 생활용품점 (주)아성다이소(대표 박정부)는 코로나19 바이러스로 어려움을 겪...   \n",
       "4          4  1967년 프로 야구 드래프트 1순위로 요미우리 자이언츠에게 입단하면서 등번호는 8...   \n",
       "...      ...                                                ...   \n",
       "32465  32465  한국당은 7일 오전 9시부터 오후 5시까지 진행된 원내대표 및 정책위의장 후보자 등...   \n",
       "32466  32466  법포는 다시 최시형, 서병학, 손병희 직계인 북접과 다시 서장옥, 전봉준, 김개남을...   \n",
       "32467  32467  완도군(군수 신우철)이 국토교통부에서 실시한 '2019 교통문화지수 실태조사'에서 ...   \n",
       "32468  32468  중앙일보, JTBC 회장을 지낸 이후 중앙홀딩스 회장, 재단법인 한반도평화만들기 이...   \n",
       "32469  32469  화순군(군수 구충곤)은 17일 동면의 이장 20여 명이 코로나 19 예방을 위해 버...   \n",
       "\n",
       "                                          subject_entity  \\\n",
       "0      {'word': '비틀즈', 'start_idx': 24, 'end_idx': 26...   \n",
       "1      {'word': '민주평화당', 'start_idx': 19, 'end_idx': ...   \n",
       "2      {'word': '광주FC', 'start_idx': 21, 'end_idx': 2...   \n",
       "3      {'word': '아성다이소', 'start_idx': 13, 'end_idx': ...   \n",
       "4      {'word': '요미우리 자이언츠', 'start_idx': 22, 'end_id...   \n",
       "...                                                  ...   \n",
       "32465  {'word': '유기준', 'start_idx': 93, 'end_idx': 95...   \n",
       "32466  {'word': '최시형', 'start_idx': 7, 'end_idx': 9, ...   \n",
       "32467  {'word': '완도군', 'start_idx': 0, 'end_idx': 2, ...   \n",
       "32468  {'word': 'JTBC', 'start_idx': 6, 'end_idx': 9,...   \n",
       "32469  {'word': '화순군', 'start_idx': 0, 'end_idx': 2, ...   \n",
       "\n",
       "                                           object_entity  \\\n",
       "0      {'word': '조지 해리슨', 'start_idx': 13, 'end_idx':...   \n",
       "1      {'word': '대안신당', 'start_idx': 14, 'end_idx': 1...   \n",
       "2      {'word': '한국프로축구연맹', 'start_idx': 34, 'end_idx...   \n",
       "3      {'word': '박정부', 'start_idx': 22, 'end_idx': 24...   \n",
       "4      {'word': '1967', 'start_idx': 0, 'end_idx': 3,...   \n",
       "...                                                  ...   \n",
       "32465  {'word': '부산 서구·동구', 'start_idx': 100, 'end_id...   \n",
       "32466  {'word': '손병희', 'start_idx': 17, 'end_idx': 19...   \n",
       "32467  {'word': '신우철', 'start_idx': 7, 'end_idx': 9, ...   \n",
       "32468  {'word': '중앙홀딩스', 'start_idx': 21, 'end_idx': ...   \n",
       "32469  {'word': '구충곤', 'start_idx': 7, 'end_idx': 9, ...   \n",
       "\n",
       "                           label     source   sub_word  obj_word  \\\n",
       "0                    no_relation  wikipedia        비틀즈    조지 해리슨   \n",
       "1                    no_relation   wikitree      민주평화당      대안신당   \n",
       "2                  org:member_of   wikitree       광주FC  한국프로축구연맹   \n",
       "3      org:top_members/employees   wikitree      아성다이소       박정부   \n",
       "4                    no_relation  wikipedia  요미우리 자이언츠      1967   \n",
       "...                          ...        ...        ...       ...   \n",
       "32465            per:employee_of   wikitree        유기준  부산 서구·동구   \n",
       "32466             per:colleagues  wikipedia        최시형       손병희   \n",
       "32467  org:top_members/employees   wikitree        완도군       신우철   \n",
       "32468                no_relation  wikipedia       JTBC     중앙홀딩스   \n",
       "32469  org:top_members/employees   wikitree        화순군       구충곤   \n",
       "\n",
       "       sub_start_idx  sub_end_idx  obj_start_idx  obj_end_idx  \\\n",
       "0                 24           26             13           18   \n",
       "1                 19           23             14           17   \n",
       "2                 21           24             34           41   \n",
       "3                 13           17             22           24   \n",
       "4                 22           30              0            3   \n",
       "...              ...          ...            ...          ...   \n",
       "32465             93           95            100          107   \n",
       "32466              7            9             17           19   \n",
       "32467              0            2              7            9   \n",
       "32468              6            9             21           25   \n",
       "32469              0            2              7            9   \n",
       "\n",
       "                             sentence_with_entity_marker sub_extracted  \\\n",
       "0      〈Something〉는 @조지 해리슨@이 쓰고 @비틀즈@가 1969년 앨범 《Abb...           비틀즈   \n",
       "1      호남이 기반인 바른미래당·@대안신당@·@민주평화당@이 우여곡절 끝에 합당해 민생당(...         민주평화당   \n",
       "2      K리그2에서 성적 1위를 달리고 있는 @광주FC@는 지난 26일 @한국프로축구연맹@...          광주FC   \n",
       "3      균일가 생활용품점 (주)@아성다이소@(대표 @박정부@)는 코로나19 바이러스로 어려...         아성다이소   \n",
       "4      @1967@년 프로 야구 드래프트 1순위로 @요미우리 자이언츠@에게 입단하면서 등번...     요미우리 자이언츠   \n",
       "...                                                  ...           ...   \n",
       "32465  한국당은 7일 오전 9시부터 오후 5시까지 진행된 원내대표 및 정책위의장 후보자 등...           유기준   \n",
       "32466  법포는 다시 @최시형@, 서병학, @손병희@ 직계인 북접과 다시 서장옥, 전봉준, ...           최시형   \n",
       "32467  @완도군@(군수 @신우철@)이 국토교통부에서 실시한 '2019 교통문화지수 실태조사...           완도군   \n",
       "32468  중앙일보, @JTBC@ 회장을 지낸 이후 @중앙홀딩스@ 회장, 재단법인 한반도평화만...          JTBC   \n",
       "32469  @화순군@(군수 @구충곤@)은 17일 동면의 이장 20여 명이 코로나 19 예방을 ...           화순군   \n",
       "\n",
       "      obj_extracted  \n",
       "0            조지 해리슨  \n",
       "1              대안신당  \n",
       "2          한국프로축구연맹  \n",
       "3               박정부  \n",
       "4              1967  \n",
       "...             ...  \n",
       "32465      부산 서구·동구  \n",
       "32466           손병희  \n",
       "32467           신우철  \n",
       "32468         중앙홀딩스  \n",
       "32469           구충곤  \n",
       "\n",
       "[32470 rows x 15 columns]"
      ]
     },
     "execution_count": 9,
     "metadata": {},
     "output_type": "execute_result"
    }
   ],
   "source": [
    "# 문장에 entity를 직접 표시\n",
    "train_df['sentence_with_entity_marker'] = None\n",
    "train_df['sub_extracted'] = None\n",
    "train_df['obj_extracted'] = None \n",
    "\n",
    "for i in train_df.index:\n",
    "    \n",
    "    sub_start_idx = train_df['sub_start_idx'].loc[i]\n",
    "    sub_end_idx = train_df['sub_end_idx'].loc[i]\n",
    "    \n",
    "    obj_start_idx = train_df['obj_start_idx'].loc[i]\n",
    "    obj_end_idx = train_df['obj_end_idx'].loc[i]\n",
    "    \n",
    "    train_df['sub_extracted'].loc[i] = train_df['sentence'].loc[i][sub_start_idx:sub_end_idx+1]\n",
    "    train_df['obj_extracted'].loc[i] = train_df['sentence'].loc[i][obj_start_idx:obj_end_idx+1]\n",
    "    \n",
    "    \n",
    "    train_df['sentence_with_entity_marker'].loc[i] = list(train_df['sentence'].loc[i])\n",
    "    \n",
    "    # sub_entity, obj_entity 중 앞에 있는 엔티티에 먼저 마커를 붙여주면, 뒤에 있는 엔티티는 인덱스가 2만큼 밀려난다.  \n",
    "    if sub_start_idx > obj_start_idx:\n",
    "    \n",
    "        train_df['sentence_with_entity_marker'].loc[i].insert(sub_start_idx, '@')\n",
    "        train_df['sentence_with_entity_marker'].loc[i].insert(sub_end_idx+2, '@')\n",
    "\n",
    "        train_df['sentence_with_entity_marker'].loc[i].insert(obj_start_idx, '@')\n",
    "        train_df['sentence_with_entity_marker'].loc[i].insert(obj_end_idx+2, '@')\n",
    "\n",
    "    else:\n",
    "        train_df['sentence_with_entity_marker'].loc[i].insert(obj_start_idx, '@')\n",
    "        train_df['sentence_with_entity_marker'].loc[i].insert(obj_end_idx+2, '@')\n",
    "        \n",
    "        train_df['sentence_with_entity_marker'].loc[i].insert(sub_start_idx, '@')\n",
    "        train_df['sentence_with_entity_marker'].loc[i].insert(sub_end_idx+2, '@')\n",
    "\n",
    "    train_df['sentence_with_entity_marker'].loc[i] = ''.join(train_df['sentence_with_entity_marker'].loc[i])\n",
    "    \n",
    "# 결과를 보면, \n",
    "\n",
    "# 균일가 생활용품점 (주)@아성다이소@(대@표 박@정부)는 코로나19 바이러스로 어려...\t\n",
    "# 와 같이, 인덱스는 맞는데도 마커 삽입이 잘 안 된 경우가 있다.\n",
    "\n",
    "train_df"
   ]
  },
  {
   "cell_type": "code",
   "execution_count": 10,
   "id": "8bf7d762-71f1-41d7-81ff-793e52732fd5",
   "metadata": {},
   "outputs": [
    {
     "name": "stdout",
     "output_type": "stream",
     "text": [
      "sentence:  〈Something〉는 @조지 해리슨@이 쓰고 @비틀즈@가 1969년 앨범 《Abbey Road》에 담은 노래다. \n",
      "\n",
      "sentence:  호남이 기반인 바른미래당·@대안신당@·@민주평화당@이 우여곡절 끝에 합당해 민생당(가칭)으로 재탄생한다. \n",
      "\n",
      "sentence:  K리그2에서 성적 1위를 달리고 있는 @광주FC@는 지난 26일 @한국프로축구연맹@으로부터 관중 유치 성과와 마케팅 성과를 인정받아 ‘풀 스타디움상’과 ‘플러스 스타디움상’을 수상했다. \n",
      "\n",
      "sentence:  균일가 생활용품점 (주)@아성다이소@(대표 @박정부@)는 코로나19 바이러스로 어려움을 겪고 있는 대구광역시에 행복박스를 전달했다고 10일 밝혔다. \n",
      "\n",
      "sentence:  @1967@년 프로 야구 드래프트 1순위로 @요미우리 자이언츠@에게 입단하면서 등번호는 8번으로 배정되었다. \n",
      "\n",
      "sentence:  : 유엔, 유럽 의회, @북대서양 조약 기구@ (@NATO@), 국제이주기구, 세계 보건 기구 (WHO), 지중해 연합, 이슬람 협력 기구, 유럽 안보 협력 기구, 국제 통화 기금, 세계무역기구 그리고 프랑코포니. \n",
      "\n",
      "sentence:  그에 따라 나폴리와 계약을 연장한 마라도나는 @1989@년 팀을 UEFA컵 정상으로 인도했으며 이듬해에는 유럽 챔피언 @AC 밀란@을 상대로 승리를 거두고 다시 한 번 세리에A에서 정상에 등극했다. \n",
      "\n",
      "sentence:  @박용오@(朴容旿, @1937년 4월 29일@(음력 3월 19일)(음력 3월 19일) ~ 2009년 11월 4일)는 서울에서 태어난 대한민국의 기업인으로 두산그룹 회장, KBO 총재 등을 역임했다. \n",
      "\n",
      "sentence:  중공군에게 온전히 대항할 수 없을 정도로 약해진 국민당은 @타이베이@로 수도를 옮기는 것을 결정해, 남아있는 @중화민국@군의 병력이나 국가, 개인의 재산등을 속속 타이완으로 옮기기 시작해, 12월에는 중앙 정부 기구도 모두 이전해 타이베이 시를 중화민국의 새로운 수도로 삼았다. \n",
      "\n",
      "sentence:  특히 김동연 전 경제부총리를 비롯한 김두관 국회의원, @안규백@ 국회의원, 김종민 국회의원, 오제세 국회의원, 최운열 국회의원, 김정우 국회의원, 권칠승 국회의원, 맹성규 국회의원등 @더불어민주당@ 국회의원 8명이 영상 축하 메세지를 보내 눈길을 끌었다. \n",
      "\n"
     ]
    }
   ],
   "source": [
    "for i in train_df['sentence_with_entity_marker'][0:10]:\n",
    "    print('sentence: ', i, '\\n')"
   ]
  },
  {
   "cell_type": "code",
   "execution_count": 11,
   "id": "669e9495-dccd-44d0-b4bc-0d9f9e00234c",
   "metadata": {},
   "outputs": [],
   "source": [
    "# 형태소 분석\n",
    "from konlpy.tag import Mecab\n",
    "mecab = Mecab()"
   ]
  },
  {
   "cell_type": "code",
   "execution_count": 12,
   "id": "4034b96e-4aa6-4746-98b5-8459999d7d48",
   "metadata": {},
   "outputs": [
    {
     "name": "stdout",
     "output_type": "stream",
     "text": [
      "sentence:  [('〈', 'SY'), ('Something', 'SL'), ('〉', 'SY'), ('는', 'JX'), ('@', 'SY'), ('조지', 'NNP'), ('해리슨', 'NNP'), ('@', 'SY'), ('이', 'JKS'), ('쓰', 'VV'), ('고', 'EC'), ('@', 'SY'), ('비틀즈', 'NNP'), ('@', 'SY'), ('가', 'JKS'), ('1969', 'SN'), ('년', 'NNBC'), ('앨범', 'NNG'), ('《', 'SY'), ('Abbey', 'SL'), ('Road', 'SL'), ('》', 'SY'), ('에', 'JKB'), ('담', 'VV'), ('은', 'ETM'), ('노래', 'NNG'), ('다', 'VCP+EF'), ('.', 'SF')] \n",
      "\n",
      "sentence:  [('호남', 'NNG'), ('이', 'JKS'), ('기반', 'NNG'), ('인', 'VCP+ETM'), ('바른', 'VA+ETM'), ('미래', 'NNG'), ('당', 'XSN'), ('·', 'SC'), ('@', 'SY'), ('대안', 'NNG'), ('신', 'XPN'), ('당', 'NNG'), ('@·@', 'SY'), ('민주', 'NNG'), ('평화', 'NNG'), ('당', 'XSN'), ('@', 'SY'), ('이', 'MM'), ('우여곡절', 'NNG'), ('끝', 'NNG'), ('에', 'JKB'), ('합당', 'XR'), ('해', 'XSA+EC'), ('민생', 'NNG'), ('당', 'XSN'), ('(', 'SSO'), ('가칭', 'NNG'), (')', 'SSC'), ('으로', 'JKB'), ('재', 'XPN'), ('탄생', 'NNG'), ('한다', 'XSV+EF'), ('.', 'SF')] \n",
      "\n",
      "sentence:  [('K', 'SL'), ('리그', 'NNG'), ('2', 'SN'), ('에서', 'JKB'), ('성적', 'NNG'), ('1', 'SN'), ('위', 'NNBC'), ('를', 'JKO'), ('달리', 'VV'), ('고', 'EC'), ('있', 'VX'), ('는', 'ETM'), ('@', 'SY'), ('광주', 'NNP'), ('FC', 'SL'), ('@', 'SY'), ('는', 'JX'), ('지난', 'VV+ETM'), ('26', 'SN'), ('일', 'NNBC'), ('@', 'SY'), ('한국프로축구연맹', 'NNP'), ('@', 'SY'), ('으로부터', 'JKB'), ('관중', 'NNG'), ('유치', 'NNG'), ('성과', 'NNG'), ('와', 'JC'), ('마케팅', 'NNG'), ('성과', 'NNG'), ('를', 'JKO'), ('인정받', 'VV'), ('아', 'EC'), ('‘', 'SY'), ('풀', 'NNG'), ('스타디움', 'NNG'), ('상', 'XSN'), ('’', 'SY'), ('과', 'JC'), ('‘', 'SY'), ('플러스', 'NNG'), ('스타디움', 'NNG'), ('상', 'XSN'), ('’', 'SY'), ('을', 'JKO'), ('수상', 'NNG'), ('했', 'XSV+EP'), ('다', 'EF'), ('.', 'SF')] \n",
      "\n",
      "sentence:  [('균일가', 'NNG'), ('생활', 'NNG'), ('용품', 'NNG'), ('점', 'NNG'), ('(', 'SSO'), ('주', 'NNG'), (')', 'SSC'), ('@', 'SY'), ('아성', 'NNG'), ('다이소', 'NNP'), ('@(', 'SY'), ('대표', 'NNG'), ('@', 'SY'), ('박정부', 'NNP'), ('@)', 'SY'), ('는', 'JX'), ('코로나', 'NNP'), ('19', 'SN'), ('바이러스', 'NNG'), ('로', 'JKB'), ('어려움', 'NNG'), ('을', 'JKO'), ('겪', 'VV'), ('고', 'EC'), ('있', 'VX'), ('는', 'ETM'), ('대구', 'NNP'), ('광역시', 'NNG'), ('에', 'JKB'), ('행복', 'NNG'), ('박스', 'NNG'), ('를', 'JKO'), ('전달', 'NNG'), ('했', 'XSV+EP'), ('다고', 'EC'), ('10', 'SN'), ('일', 'NNBC'), ('밝혔', 'VV+EP'), ('다', 'EF'), ('.', 'SF')] \n",
      "\n",
      "sentence:  [('@', 'SY'), ('1967', 'SN'), ('@', 'SY'), ('년', 'NNB'), ('프로', 'NNG'), ('야구', 'NNG'), ('드래프트', 'NNG'), ('1', 'SN'), ('순위', 'NNG'), ('로', 'JKB'), ('@', 'SY'), ('요미우리', 'NNP'), ('자이언츠', 'NNP'), ('@', 'SY'), ('에게', 'JKB'), ('입단', 'NNG'), ('하', 'XSV'), ('면서', 'EC'), ('등', 'NNG'), ('번호', 'NNG'), ('는', 'JX'), ('8', 'SN'), ('번', 'NNBC'), ('으로', 'JKB'), ('배정', 'NNG'), ('되', 'XSV'), ('었', 'EP'), ('다', 'EF'), ('.', 'SF')] \n",
      "\n",
      "sentence:  [(':', 'SC'), ('유엔', 'NNP'), (',', 'SC'), ('유럽', 'NNP'), ('의회', 'NNG'), (',', 'SC'), ('@', 'SY'), ('북대서양', 'NNG'), ('조약', 'NNG'), ('기구', 'NNG'), ('@', 'SY'), ('(', 'SSO'), ('@', 'SY'), ('NATO', 'SL'), ('@),', 'SY'), ('국제', 'NNG'), ('이', 'NR'), ('주', 'NNBC'), ('기구', 'NNG'), (',', 'SC'), ('세계', 'NNG'), ('보건', 'NNG'), ('기구', 'NNG'), ('(', 'SSO'), ('WHO', 'SL'), (')', 'SSC'), (',', 'SC'), ('지중해', 'NNP'), ('연합', 'NNG'), (',', 'SC'), ('이슬람', 'NNP'), ('협력', 'NNG'), ('기구', 'NNG'), (',', 'SC'), ('유럽', 'NNP'), ('안보', 'NNG'), ('협력', 'NNG'), ('기구', 'NNG'), (',', 'SC'), ('국제', 'NNG'), ('통화', 'NNG'), ('기금', 'NNG'), (',', 'SC'), ('세계무역기구', 'NNP'), ('그리고', 'MAJ'), ('프랑코포니', 'NNP'), ('.', 'SF')] \n",
      "\n",
      "sentence:  [('그', 'NP'), ('에', 'JKB'), ('따라', 'VV+EC'), ('나폴리', 'NNP'), ('와', 'JC'), ('계약', 'NNG'), ('을', 'JKO'), ('연장', 'NNG'), ('한', 'XSA+ETM'), ('마라도나', 'NNP'), ('는', 'JX'), ('@', 'SY'), ('1989', 'SN'), ('@', 'SY'), ('년', 'NNB'), ('팀', 'NNG'), ('을', 'JKO'), ('UEFA', 'SL'), ('컵', 'NNG'), ('정상', 'NNG'), ('으로', 'JKB'), ('인도', 'NNP'), ('했으며', 'XSV+EP+EC'), ('이듬해', 'NNG'), ('에', 'JKB'), ('는', 'JX'), ('유럽', 'NNP'), ('챔피언', 'NNG'), ('@', 'SY'), ('AC', 'SL'), ('밀란', 'NNP'), ('@', 'SY'), ('을', 'JKO'), ('상대', 'NNG'), ('로', 'JKB'), ('승리', 'NNG'), ('를', 'JKO'), ('거두', 'VV'), ('고', 'EC'), ('다시', 'MAG'), ('한', 'MM'), ('번', 'NNBC'), ('세리', 'NNG'), ('에', 'JKB'), ('A', 'SL'), ('에서', 'JKB'), ('정상', 'NNG'), ('에', 'JKB'), ('등극', 'NNG'), ('했', 'XSV+EP'), ('다', 'EF'), ('.', 'SF')] \n",
      "\n",
      "sentence:  [('@', 'SY'), ('박용오', 'NNP'), ('@(', 'SY'), ('朴', 'NNG'), ('容', 'SH'), ('旿', 'SH'), (',', 'SC'), ('@', 'SY'), ('1937', 'SN'), ('년', 'NNBC'), ('4', 'SN'), ('월', 'NNBC'), ('29', 'SN'), ('일', 'NNBC'), ('@(', 'SY'), ('음력', 'NNG'), ('3', 'SN'), ('월', 'NNBC'), ('19', 'SN'), ('일', 'NNBC'), (')', 'SSC'), ('(', 'SSO'), ('음력', 'NNG'), ('3', 'SN'), ('월', 'NNBC'), ('19', 'SN'), ('일', 'NNBC'), (')', 'SSC'), ('~', 'SY'), ('2009', 'SN'), ('년', 'NNBC'), ('11', 'SN'), ('월', 'NNBC'), ('4', 'SN'), ('일', 'NNBC'), (')', 'SSC'), ('는', 'JX'), ('서울', 'NNP'), ('에서', 'JKB'), ('태어난', 'VV+ETM'), ('대한민국', 'NNP'), ('의', 'JKG'), ('기업인', 'NNG'), ('으로', 'JKB'), ('두산', 'NNP'), ('그룹', 'NNG'), ('회장', 'NNG'), (',', 'SC'), ('KBO', 'SL'), ('총재', 'NNG'), ('등', 'NNB'), ('을', 'JKO'), ('역임', 'NNG'), ('했', 'XSV+EP'), ('다', 'EF'), ('.', 'SF')] \n",
      "\n",
      "sentence:  [('중공군', 'NNG'), ('에게', 'JKB'), ('온전히', 'MAG'), ('대항', 'NNG'), ('할', 'XSV+ETM'), ('수', 'NNB'), ('없', 'VA'), ('을', 'ETM'), ('정도', 'NNG'), ('로', 'JKB'), ('약해진', 'VA+EC+VX+ETM'), ('국민당', 'NNG'), ('은', 'JX'), ('@', 'SY'), ('타이베이', 'NNP'), ('@', 'SY'), ('로', 'JKB'), ('수도', 'NNG'), ('를', 'JKO'), ('옮기', 'VV'), ('는', 'ETM'), ('것', 'NNB'), ('을', 'JKO'), ('결정', 'NNG'), ('해', 'XSV+EC'), (',', 'SC'), ('남', 'VV'), ('아', 'EC'), ('있', 'VX'), ('는', 'ETM'), ('@', 'SY'), ('중화민국', 'NNP'), ('@', 'SY'), ('군', 'NNG'), ('의', 'JKG'), ('병력', 'NNG'), ('이나', 'JC'), ('국가', 'NNG'), (',', 'SC'), ('개인', 'NNG'), ('의', 'JKG'), ('재산', 'NNG'), ('등', 'NNB'), ('을', 'JKO'), ('속속', 'MAG'), ('타이완', 'NNP'), ('으로', 'JKB'), ('옮기', 'VV'), ('기', 'ETN'), ('시작', 'NNG'), ('해', 'XSV+EC'), (',', 'SC'), ('12', 'SN'), ('월', 'NNBC'), ('에', 'JKB'), ('는', 'JX'), ('중앙', 'NNG'), ('정부', 'NNG'), ('기구', 'NNG'), ('도', 'JX'), ('모두', 'MAG'), ('이전', 'NNG'), ('해', 'XSV+EC'), ('타이베이', 'NNP'), ('시', 'NNG'), ('를', 'JKO'), ('중화민국', 'NNP'), ('의', 'JKG'), ('새로운', 'VA+ETM'), ('수도', 'NNG'), ('로', 'JKB'), ('삼', 'VV'), ('았', 'EP'), ('다', 'EF'), ('.', 'SF')] \n",
      "\n",
      "sentence:  [('특히', 'MAG'), ('김동연', 'NNP'), ('전', 'MM'), ('경제', 'NNG'), ('부총리', 'NNG'), ('를', 'JKO'), ('비롯', 'XR'), ('한', 'XSA+ETM'), ('김두관', 'NNP'), ('국회의원', 'NNG'), (',', 'SC'), ('@', 'SY'), ('안규백', 'NNP'), ('@', 'SY'), ('국회의원', 'NNG'), (',', 'SC'), ('김종민', 'NNP'), ('국회의원', 'NNG'), (',', 'SC'), ('오제세', 'NNP'), ('국회의원', 'NNG'), (',', 'SC'), ('최운열', 'NNP'), ('국회의원', 'NNG'), (',', 'SC'), ('김정우', 'NNP'), ('국회의원', 'NNG'), (',', 'SC'), ('권칠승', 'NNP'), ('국회의원', 'NNG'), (',', 'SC'), ('맹성규', 'NNP'), ('국회의원', 'NNG'), ('등', 'NNB'), ('@', 'SY'), ('더불', 'VV'), ('어', 'EC'), ('민주당', 'NNP'), ('@', 'SY'), ('국회의원', 'NNG'), ('8', 'SN'), ('명', 'NNBC'), ('이', 'JKS'), ('영상', 'NNG'), ('축하', 'NNG'), ('메세지', 'NNG'), ('를', 'JKO'), ('보내', 'VV+EC'), ('눈길', 'NNG'), ('을', 'JKO'), ('끌', 'VV'), ('었', 'EP'), ('다', 'EF'), ('.', 'SF')] \n",
      "\n"
     ]
    }
   ],
   "source": [
    "for i in train_df['sentence_with_entity_marker'][0:10]:\n",
    "    print('sentence: ', mecab.pos(i), '\\n')"
   ]
  },
  {
   "cell_type": "code",
   "execution_count": 13,
   "id": "c67c9493-492f-4741-af09-f912e2933669",
   "metadata": {},
   "outputs": [
    {
     "name": "stdout",
     "output_type": "stream",
     "text": [
      "sentence:  Something는 @조지 해리슨@이 쓰고 @비틀즈@가 1969년 앨범 Abbey Road에 담으신 노래입니다. \n",
      "\n",
      "sentence:  호남이 기반인 바른미래당·@대안신당@·@민주평화당@이 우여곡절 끝에 합당해 민생당(가칭)으로 재탄생합니다. \n",
      "\n",
      "sentence:  K리그2에서 성적 1위를 달리고 있는 @광주FC@는 지난 26일 @한국프로축구연맹@으로부터 관중 유치 성과와 마케팅 성과를 인정받어 풀 스타디움상과 플러스 스타디움상을 수상하었습니다. \n",
      "\n",
      "sentence:  균일가 생활용품점 (주)@아성다이소@(대표 @박정부@)는 코로나19 바이러스로 어려움을 겪고 있는 대구광역시에 행복박스를 전달하었다고 10일 밝히었습니다. \n",
      "\n",
      "sentence:  @1967@년 프로 야구 드래프트 1순위로 @요미우리 자이언츠@에게 입단하면서 등번호는 8번으로 배정되었습니다. \n",
      "\n",
      "sentence:  : 유엔, 유럽 의회, @북대서양 조약 기구@ (@NATO@), 국제이주기구, 세계 보건 기구 (WHO), 지중해 연합, 이슬람 협력 기구, 유럽 안보 협력 기구, 국제 통화 기금, 세계무역기구 그리고 프랑코포니. \n",
      "\n",
      "sentence:  그에 따라 나폴리와 계약을 연장한 마라도나는 @1989@년 팀을 UEFA컵 정상으로 인도하었으며 이듬해에는 유럽 챔피언 @AC 밀라인@을 상대로 승리를 거두고 다시 한 번 세리에A에서 정상에 등극하었습니다. \n",
      "\n",
      "sentence:  @박용오@(, @1937년 4월 29일@(음력 3월 19일)(음력 3월 19일) ~ 2009년 11월 4일)는 서울에서 태어난 대한민국의 기업인으로 두산그룹 회장, KBO 총재 등을 역임하었습니다. \n",
      "\n",
      "sentence:  중공군에게 온전히 대항할 수 없을 정도로 약해진 국민당은 @타이베이@로 수도를 옮기는 것을 결정하어, 남어있는 @중화민국@군의 병력이나 국가, 개인의 재산등을 속속 타이완으로 옮기기 시작하어, 12월에는 중앙 정부 기구도 모두 이전해 타이베이 시를 중화민국의 새롭으신 수도로 삼었습니다. \n",
      "\n",
      "sentence:  특히 김동연 전 경제부총리를 비롯한 김두관 국회의원, @안규백@ 국회의원, 김종민 국회의원, 오제세 국회의원, 최운열 국회의원, 김정우 국회의원, 권칠승 국회의원, 맹성규 국회의원등 @더불어민주당@ 국회의원 8명이 영상 축하 메세지를 보내 눈길을 끌었습니다. \n",
      "\n"
     ]
    }
   ],
   "source": [
    "# 반말 -> 존댓말 테스트\n",
    "import os\n",
    "\n",
    "from tqdm.auto import tqdm\n",
    "from AIpjt.utils import Utils\n",
    "from AIpjt.changer import Changer\n",
    "\n",
    "model = Changer()\n",
    "\n",
    "for i in train_df['sentence_with_entity_marker'][0:10]:\n",
    "    print('sentence: ', model.changer(i), '\\n')"
   ]
  },
  {
   "cell_type": "markdown",
   "id": "01e7600a-5d00-4a71-bc8d-f6fda0225a8f",
   "metadata": {},
   "source": [
    "## 제한적인 EDA"
   ]
  },
  {
   "cell_type": "code",
   "execution_count": null,
   "id": "4ba0e20c-0b20-496b-b8ea-8e97c8c37ead",
   "metadata": {},
   "outputs": [],
   "source": [
    "### 문장 안에 부사가 있을 때 random swqp, random deletion수행"
   ]
  },
  {
   "cell_type": "code",
   "execution_count": 22,
   "id": "22086f1e-df93-43a9-a73f-26dcbf6126f1",
   "metadata": {},
   "outputs": [],
   "source": [
    "import random\n",
    "\n",
    "def adverb_detector(sentence):\n",
    "    # Tokenizing    \n",
    "    tokenized = mecab.pos(sentence)\n",
    "    \n",
    "    # 어절 정보도 활용하기 위해 (원문 공백 기준 split, tokenized)와 같은 튜플 형태로 저장한다.\n",
    "    eojeol_token_tuple = (sentence, tokenized)\n",
    "    \n",
    "    for i, token in enumerate(tokenized):\n",
    "        try:\n",
    "            if tokenized[i-1] != '@' and tokenized[i+1] != '@' and token[1] == \"MAG\":\n",
    "                return True\n",
    "        except:\n",
    "            pass\n",
    "\n",
    "def "
   ]
  },
  {
   "cell_type": "code",
   "execution_count": 23,
   "id": "25f30f23-dde1-4636-aae0-2a7f963b4832",
   "metadata": {},
   "outputs": [
    {
     "data": {
      "text/plain": [
       "True"
      ]
     },
     "execution_count": 23,
     "metadata": {},
     "output_type": "execute_result"
    }
   ],
   "source": [
    "adverb_detector('밥을 굉장히 많이 먹었다.')"
   ]
  },
  {
   "cell_type": "code",
   "execution_count": 24,
   "id": "41e848b6-41db-4e5d-88a9-5db36a432259",
   "metadata": {},
   "outputs": [
    {
     "data": {
      "text/plain": [
       "9558"
      ]
     },
     "execution_count": 24,
     "metadata": {},
     "output_type": "execute_result"
    }
   ],
   "source": [
    "train_df['sentence_with_entity_marker'].apply(lambda x: adverb_detector(x)).count()"
   ]
  },
  {
   "cell_type": "code",
   "execution_count": 25,
   "id": "743891ad-1044-48c1-8a51-b0c0a803cd5a",
   "metadata": {},
   "outputs": [
    {
     "data": {
      "text/plain": [
       "[('나', 'NP'),\n",
       " ('는', 'JX'),\n",
       " ('밥', 'NNG'),\n",
       " ('을', 'JKO'),\n",
       " ('상당', 'NNG'),\n",
       " ('하', 'XSA'),\n",
       " ('게', 'EC'),\n",
       " ('많이', 'MAG'),\n",
       " ('먹', 'VV'),\n",
       " ('었', 'EP'),\n",
       " ('다', 'EF'),\n",
       " ('.', 'SF')]"
      ]
     },
     "execution_count": 25,
     "metadata": {},
     "output_type": "execute_result"
    }
   ],
   "source": [
    "mecab.pos('나는 밥을 상당하게 많이 먹었다.')"
   ]
  },
  {
   "cell_type": "code",
   "execution_count": 29,
   "id": "118eac69-a561-4385-bfe5-ece902254b4f",
   "metadata": {},
   "outputs": [
    {
     "data": {
      "text/plain": [
       "['나', '는', '밥', '을', '상당', '하', '게', '많이', '먹', '었', '다', '.']"
      ]
     },
     "execution_count": 29,
     "metadata": {},
     "output_type": "execute_result"
    }
   ],
   "source": [
    "mecab.morphs('나는 밥을 상당하게 많이 먹었다.')"
   ]
  },
  {
   "cell_type": "code",
   "execution_count": null,
   "id": "672fe83a-a46b-448d-af82-95ca9be9947d",
   "metadata": {},
   "outputs": [],
   "source": []
  }
 ],
 "metadata": {
  "kernelspec": {
   "display_name": "boost",
   "language": "python",
   "name": "boost"
  },
  "language_info": {
   "codemirror_mode": {
    "name": "ipython",
    "version": 3
   },
   "file_extension": ".py",
   "mimetype": "text/x-python",
   "name": "python",
   "nbconvert_exporter": "python",
   "pygments_lexer": "ipython3",
   "version": "3.8.13"
  }
 },
 "nbformat": 4,
 "nbformat_minor": 5
}
